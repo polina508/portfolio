{
  "nbformat": 4,
  "nbformat_minor": 0,
  "metadata": {
    "colab": {
      "provenance": []
    },
    "kernelspec": {
      "name": "python3",
      "display_name": "Python 3"
    },
    "language_info": {
      "name": "python"
    }
  },
  "cells": [
    {
      "cell_type": "code",
      "source": [
        "!pip install yadisk"
      ],
      "metadata": {
        "id": "w1eVW1H0TieS",
        "colab": {
          "base_uri": "https://localhost:8080/"
        },
        "outputId": "17028ee2-d9bc-40e9-f531-84568522cc24"
      },
      "execution_count": 1,
      "outputs": [
        {
          "output_type": "stream",
          "name": "stdout",
          "text": [
            "Collecting yadisk\n",
            "  Downloading yadisk-1.3.4-py3-none-any.whl (55 kB)\n",
            "\u001b[2K     \u001b[90m━━━━━━━━━━━━━━━━━━━━━━━━━━━━━━━━━━━━━━━━\u001b[0m \u001b[32m55.5/55.5 kB\u001b[0m \u001b[31m864.6 kB/s\u001b[0m eta \u001b[36m0:00:00\u001b[0m\n",
            "\u001b[?25hRequirement already satisfied: requests in /usr/local/lib/python3.10/dist-packages (from yadisk) (2.31.0)\n",
            "Requirement already satisfied: charset-normalizer<4,>=2 in /usr/local/lib/python3.10/dist-packages (from requests->yadisk) (3.3.2)\n",
            "Requirement already satisfied: idna<4,>=2.5 in /usr/local/lib/python3.10/dist-packages (from requests->yadisk) (3.6)\n",
            "Requirement already satisfied: urllib3<3,>=1.21.1 in /usr/local/lib/python3.10/dist-packages (from requests->yadisk) (2.0.7)\n",
            "Requirement already satisfied: certifi>=2017.4.17 in /usr/local/lib/python3.10/dist-packages (from requests->yadisk) (2023.11.17)\n",
            "Installing collected packages: yadisk\n",
            "Successfully installed yadisk-1.3.4\n"
          ]
        }
      ]
    },
    {
      "cell_type": "code",
      "source": [
        "import yadisk\n",
        "import os\n",
        "from tqdm import tqdm\n",
        "import sys\n",
        "import openpyxl\n",
        "import pandas as pd\n",
        "import re\n",
        "import numpy as np\n",
        "import gspread\n",
        "from oauth2client.service_account import ServiceAccountCredentials\n",
        "import matplotlib.pyplot as plt"
      ],
      "metadata": {
        "id": "EdksjCmTNdjQ"
      },
      "execution_count": 2,
      "outputs": []
    },
    {
      "cell_type": "code",
      "source": [
        "#убираем ворнинги\n",
        "import warnings\n",
        "warnings.filterwarnings(\"ignore\")"
      ],
      "metadata": {
        "id": "1fsMOwXxtiE0"
      },
      "execution_count": 3,
      "outputs": []
    },
    {
      "cell_type": "code",
      "source": [
        "#устанавливаем степень точности отображения чисел\n",
        "pd.set_option('display.precision', 2)"
      ],
      "metadata": {
        "id": "EKZqFSJpuFct"
      },
      "execution_count": 4,
      "outputs": []
    },
    {
      "cell_type": "markdown",
      "source": [
        "### Скачиваем файлы с яндекс-диска."
      ],
      "metadata": {
        "id": "qQ4kWLVZ7bzD"
      }
    },
    {
      "cell_type": "code",
      "source": [
        "app_id = '...'\n",
        "secret_id = '...'"
      ],
      "metadata": {
        "id": "oguvJSCKZCtB"
      },
      "execution_count": 5,
      "outputs": []
    },
    {
      "cell_type": "code",
      "source": [
        "y = yadisk.YaDisk(app_id, secret_id)\n",
        "url = y.get_code_url()\n",
        "print(\"Go to the following url: %s\" % url)\n",
        "code = input(\"Enter the confirmation code: \")\n",
        "\n",
        "try:\n",
        "    response = y.get_token(code)\n",
        "except yadisk.exceptions.BadRequestError:\n",
        "    print(\"Bad code\")\n",
        "    sys.exit(1)\n",
        "y.token = response.access_token\n",
        "if y.check_token():\n",
        "    print(\"Готово, подконнектились.\")\n",
        "else:\n",
        "    print(\"Что-то не так.\")"
      ],
      "metadata": {
        "id": "_sQ-6tIANdna",
        "colab": {
          "base_uri": "https://localhost:8080/"
        },
        "outputId": "40307429-e0ce-47ff-c847-14cd44582fb4"
      },
      "execution_count": 9,
      "outputs": [
        {
          "output_type": "stream",
          "name": "stdout",
          "text": [
            "Go to the following url: https://oauth.yandex.ru/authorize?response_type=code&client_id=734e4c9f1eab43f8b6526a157f6a7ee6&display=popup&force_confirm=yes\n",
            "Enter the confirmation code: 7048810\n",
            "Готово, подконнектились.\n"
          ]
        }
      ]
    },
    {
      "cell_type": "code",
      "source": [
        "#собираем список файлов, которые надо скачать\n",
        "list_of_files = []\n",
        "for item in list(y.listdir('file_processor')):\n",
        "    if item['path'].endswith('.xlsx') or item['path'].endswith('.json'):\n",
        "        list_of_files.append(item['path'])"
      ],
      "metadata": {
        "id": "XNBL2BxGdRNY"
      },
      "execution_count": 10,
      "outputs": []
    },
    {
      "cell_type": "code",
      "source": [
        "#создаём папку, куда их положим, и заходим в неё\n",
        "load_path = '/content/lab'\n",
        "if not os.path.exists(load_path):\n",
        "    os.mkdir(load_path)\n",
        "os.chdir(load_path)"
      ],
      "metadata": {
        "id": "xtuR55cP0-91"
      },
      "execution_count": 11,
      "outputs": []
    },
    {
      "cell_type": "code",
      "source": [
        "#скачиваем файлы с яндекс-диска\n",
        "for file in tqdm(list_of_files):\n",
        "  if file.split('/')[-1] not in os.listdir():\n",
        "    y.download(file.split(':')[1], file.split('/')[-1])"
      ],
      "metadata": {
        "id": "jKjJTanB1tjB",
        "colab": {
          "base_uri": "https://localhost:8080/"
        },
        "outputId": "e2bb275f-dce3-4240-e4c7-f54c68f9170c"
      },
      "execution_count": 12,
      "outputs": [
        {
          "output_type": "stream",
          "name": "stderr",
          "text": [
            "100%|██████████| 148/148 [04:34<00:00,  1.85s/it]\n"
          ]
        }
      ]
    },
    {
      "cell_type": "markdown",
      "source": [
        "### Разделяем файлы на 4 списка, из которых потом по-отдельности будем собирать таблицы."
      ],
      "metadata": {
        "id": "M3lqjxqC7MXU"
      }
    },
    {
      "cell_type": "code",
      "source": [
        "#функции чтобы посмотреть, что в первых строчках таблиц\n",
        "\n",
        "#смотрим, есть ли в первых строках нужный текст\n",
        "def check_string_in_first_rows(worksheet, target_string):\n",
        "    for row in worksheet.iter_rows(min_row=0, max_row=5):\n",
        "        for cell in row:\n",
        "            if cell.value and target_string.upper() in str(cell.value).upper():\n",
        "                return True\n",
        "    return False\n",
        "\n",
        "#возвращаем список таблиц, в которых есть нужный текст\n",
        "def check_first_rows(list, target_string):\n",
        "    list_of_tables = []\n",
        "    for name in list:\n",
        "      file_path = f'/content/lab/{name}'\n",
        "      workbook = openpyxl.load_workbook(file_path, read_only=True)\n",
        "      worksheet = workbook.worksheets[0]\n",
        "\n",
        "      if check_string_in_first_rows(worksheet, target_string):\n",
        "          list_of_tables.append(file_path.split('/')[-1])\n",
        "\n",
        "    return list_of_tables"
      ],
      "metadata": {
        "id": "Gn_ZGgdMz3jK"
      },
      "execution_count": 13,
      "outputs": []
    },
    {
      "cell_type": "code",
      "source": [
        "#делим на списки по названию\n",
        "sop_list, zno_list = [], []\n",
        "for name in os.listdir():\n",
        "  if 'состояние_онко_помощи' in name.lower():\n",
        "    sop_list.append(name)\n",
        "  if 'злокачественные_новообразования' in name.lower():\n",
        "      zno_list.append(name)"
      ],
      "metadata": {
        "id": "UBYaJuYlNt1Z"
      },
      "execution_count": 14,
      "outputs": []
    },
    {
      "cell_type": "code",
      "source": [
        "#делим на списки по содержанию внутри файла\n",
        "target_strings_sop = ['лечении злокачественных', 'контингенте']\n",
        "target_strings_zno = ['заболеваемость населения', 'смертность населения']\n",
        "\n",
        "sop_treatment = check_first_rows(sop_list, target_strings_sop[0])\n",
        "sop_population = check_first_rows(sop_list, target_strings_sop[1])\n",
        "zno_incidence = check_first_rows(zno_list, target_strings_zno[0])\n",
        "zno_mortality = check_first_rows(zno_list, target_strings_zno[1])"
      ],
      "metadata": {
        "id": "i2yeW0QCO2ys"
      },
      "execution_count": 15,
      "outputs": []
    },
    {
      "cell_type": "markdown",
      "source": [
        "### Все нужные функции"
      ],
      "metadata": {
        "id": "XF6HEAG8dRBl"
      }
    },
    {
      "cell_type": "code",
      "source": [
        "#функция, чтобы раздербанить первую клетку таблицы Состояние_онко_помощи на данные для дополнительных колонок:\n",
        "#год, название заболевания, код заболевания, номер таблицы\n",
        "def sop_new_cols(table):\n",
        "\n",
        "    values = {}\n",
        "\n",
        "    #открываем файл\n",
        "    workbook = openpyxl.load_workbook(table, read_only=True)\n",
        "    worksheet = workbook.worksheets[0]\n",
        "\n",
        "    #читаем первую клетку\n",
        "    first_cell = worksheet.cell(row=1, column=1).value\n",
        "\n",
        "    #ищем год\n",
        "    year_match = re.search(r'\\b\\d{4}\\b', first_cell)\n",
        "    year = year_match.group(0) if year_match else None\n",
        "    values.update({'year': year})\n",
        "\n",
        "    #ищем локализацию заболевания\n",
        "    name_match = re.search(r'\\n(.*?)(\\(C\\d+|\\(С\\d+)', first_cell)\n",
        "    name = name_match.group(1).strip() if name_match else None\n",
        "    values.update({'localization': name})\n",
        "\n",
        "    #ищем код заболевания\n",
        "    code_match = re.search(r'\\((C[^)]+|С[^)]+)\\)', first_cell)\n",
        "    code = code_match.group(1) if code_match else None\n",
        "    values.update({'icd_code': code})\n",
        "\n",
        "    #ищем номер таблицы\n",
        "    table_match = re.search(r'Таблица (\\d+)', first_cell)\n",
        "    table = table_match.group(1) if table_match else table.split('_')[2]\n",
        "    values.update({'table': table})\n",
        "\n",
        "    return values"
      ],
      "metadata": {
        "id": "mCwKiCu2cbYp"
      },
      "execution_count": 16,
      "outputs": []
    },
    {
      "cell_type": "code",
      "source": [
        "#функция, чтобы раздербанить первые клетки таблицы Злокачественные_новообразования на данные для дополнительных колонок:\n",
        "#год, название заболевания, код заболевания, номер таблицы\n",
        "def zno_new_cols(table):\n",
        "\n",
        "    values = {}\n",
        "\n",
        "    workbook = openpyxl.load_workbook(table, read_only=True)\n",
        "    worksheet = workbook.worksheets[0]\n",
        "\n",
        "    if worksheet['B3'].value is None:\n",
        "      year_match = re.search(r'\\d{4}$', worksheet['A3'].value)\n",
        "      year = year_match.group(0).strip() if year_match else None\n",
        "    else:\n",
        "      year = worksheet['B3'].value\n",
        "    values.update({'year': year})\n",
        "\n",
        "    if worksheet['B4'].value is None:\n",
        "      name_match = re.search(r': (.*?)(\\(C\\d+|\\(С\\d+)', worksheet['A4'].value)\n",
        "    else:\n",
        "      name_match = re.search(r'(.*?)(\\(C\\d+|\\(С\\d+)', worksheet['B4'].value)\n",
        "    name = name_match.group(1).strip() if name_match else worksheet['B4'].value.strip()\n",
        "    values.update({'localization': name})\n",
        "\n",
        "    if worksheet['B4'].value is None:\n",
        "      code_match = re.search(r'\\((C[^)]+|С[^)]+)\\)', worksheet['A4'].value)\n",
        "    else:\n",
        "      code_match = re.search(r'\\((C[^)]+|С[^)]+)\\)', worksheet['B4'].value)\n",
        "    code = code_match.group(1) if code_match else worksheet['B4'].value.strip()\n",
        "    values.update({'icd_code': code})\n",
        "\n",
        "    table_match = re.search(r'Таблица (\\d+)', worksheet['A1'].value)\n",
        "    table = table_match.group(1) if table_match else table.split('_')[2]\n",
        "    values.update({'table': table})\n",
        "\n",
        "    return values"
      ],
      "metadata": {
        "id": "AxeWkuS9L9Y4"
      },
      "execution_count": 17,
      "outputs": []
    },
    {
      "cell_type": "code",
      "source": [
        "#функция, чтобы склеить мультииндекс столбцов и подправить по мелочи\n",
        "def column_names_change(df):\n",
        "  df.columns = df.columns.map(lambda x: ' '.join(map(str, x))) \\\n",
        "                                          .str.replace('\\n', ' ') \\\n",
        "                                          .str.replace(r'Unnamed: \\d+_level_\\d+|- |\\.\\d$', '', regex=True) \\\n",
        "                                          .str.strip()\n",
        "  df.columns = [' '.join(s.split()).lower() for s in df.columns]\n",
        "  df = df.rename(columns={df.columns[0]: 'республика, край, область'})\n",
        "  return df.columns"
      ],
      "metadata": {
        "id": "QNMsSjTqts2T"
      },
      "execution_count": 18,
      "outputs": []
    },
    {
      "cell_type": "code",
      "source": [
        "#функция, убирающая строки с аггрегированными данными\n",
        "def remove_aggregated_lines(df):\n",
        "  df = df[~df.iloc[:, 0].str.contains('россия', case=False) & \\\n",
        "          ~df.iloc[:, 0].str.contains('ФО')] \\\n",
        "          .reset_index(drop=True)\n",
        "  return df"
      ],
      "metadata": {
        "id": "CrhTV9iSdjlH"
      },
      "execution_count": 19,
      "outputs": []
    },
    {
      "cell_type": "markdown",
      "source": [
        "### Собираем таблицу по данным из таблиц Состояние онко помощи (лечение)."
      ],
      "metadata": {
        "id": "kLUEQ-dr62er"
      }
    },
    {
      "cell_type": "code",
      "source": [
        "#читаем первую таблицу, чтобы было к чему пришивать остальные\n",
        "data_sop_treatment = pd.read_excel(sop_treatment[0], header=[1,2])\n",
        "\n",
        "#создаём новые колонки с годом, заболеванием, кодом заболевания, номером таблицы\n",
        "new_cols = sop_new_cols(sop_treatment[0])\n",
        "for key, value in new_cols.items():\n",
        "    data_sop_treatment[key] = value"
      ],
      "metadata": {
        "id": "lbL5HyYBIKGm"
      },
      "execution_count": 20,
      "outputs": []
    },
    {
      "cell_type": "code",
      "source": [
        "#собираем словарик: к какому федеральному округу какая область относится\n",
        "fo_dict = {}\n",
        "current_fo = 0\n",
        "\n",
        "for item in data_sop_treatment.iloc[:, 0]:\n",
        "  if item.endswith('ФО'):\n",
        "    current_fo = item\n",
        "  else:\n",
        "    fo_dict.update({item: current_fo})"
      ],
      "metadata": {
        "id": "bT6J7pzQk3ki"
      },
      "execution_count": 21,
      "outputs": []
    },
    {
      "cell_type": "code",
      "source": [
        "#читаем и конкатенируем все остальные из списка sop_treatment\n",
        "for file in sop_treatment[1:]:\n",
        "    df = pd.read_excel(file, header=[1,2])\n",
        "    new_cols = sop_new_cols(file)\n",
        "    for key, value in new_cols.items():\n",
        "        df[key] = value\n",
        "    data_sop_treatment = pd.concat([data_sop_treatment, df])"
      ],
      "metadata": {
        "id": "v_xOED24l0HZ"
      },
      "execution_count": 22,
      "outputs": []
    },
    {
      "cell_type": "code",
      "source": [
        "#поправляем колонки\n",
        "data_sop_treatment.columns = column_names_change(data_sop_treatment)"
      ],
      "metadata": {
        "id": "zr2vVtWjS0Lw"
      },
      "execution_count": 23,
      "outputs": []
    },
    {
      "cell_type": "code",
      "source": [
        "#убираем аггрегированные строки (по стране и по ФО)\n",
        "data_sop_treatment = remove_aggregated_lines(data_sop_treatment)"
      ],
      "metadata": {
        "id": "g3-WxYbMTd1D"
      },
      "execution_count": 24,
      "outputs": []
    },
    {
      "cell_type": "code",
      "source": [
        "#добавляем колонку с федеральным округом для каждой записи\n",
        "data_sop_treatment['federal_district'] = data_sop_treatment.iloc[:, 0].map(fo_dict)"
      ],
      "metadata": {
        "id": "22Q8HBtoP0oy"
      },
      "execution_count": 25,
      "outputs": []
    },
    {
      "cell_type": "code",
      "source": [
        "#подправляем типы\n",
        "data_sop_treatment['year'] = data_sop_treatment['year'].astype(int)\n",
        "data_sop_treatment.info()"
      ],
      "metadata": {
        "id": "38sCHEklLWKo",
        "colab": {
          "base_uri": "https://localhost:8080/"
        },
        "outputId": "89fbc432-ff04-4e6e-ab69-71e35fe91e47"
      },
      "execution_count": 26,
      "outputs": [
        {
          "output_type": "stream",
          "name": "stdout",
          "text": [
            "<class 'pandas.core.frame.DataFrame'>\n",
            "RangeIndex: 2202 entries, 0 to 2201\n",
            "Data columns (total 15 columns):\n",
            " #   Column                                                                                              Non-Null Count  Dtype  \n",
            "---  ------                                                                                              --------------  -----  \n",
            " 0   республика, край, область                                                                           2202 non-null   object \n",
            " 1   число зно, выявленных в отчетном году, радикальное лечение которых закончено в отчетном году        2202 non-null   int64  \n",
            " 2   число зно, выявленных в отчетном году, радикальное лечение которых % от впервые выявленных          2202 non-null   float64\n",
            " 3   число зно, выявленных в отчетном году, радикальное лечение которых будет продолжено (не закончено)  2202 non-null   int64  \n",
            " 4   число зно, выявленных в отчетном году, радикальное лечение которых % от впервые выявленных          2202 non-null   float64\n",
            " 5   в том числе с использованием методов только хирургического, %                                       2202 non-null   float64\n",
            " 6   в том числе с использованием методов только лучевого, %                                             2202 non-null   float64\n",
            " 7   в том числе с использованием методов только лекарственного, %                                       2202 non-null   float64\n",
            " 8   в том числе с использованием методов комбинир. или компл. (кроме химиолучевого), %                  2202 non-null   float64\n",
            " 9   в том числе с использованием методов химиолучевого, %                                               2202 non-null   float64\n",
            " 10  year                                                                                                2202 non-null   int64  \n",
            " 11  localization                                                                                        2202 non-null   object \n",
            " 12  icd_code                                                                                            2202 non-null   object \n",
            " 13  table                                                                                               2202 non-null   object \n",
            " 14  federal_district                                                                                    2202 non-null   object \n",
            "dtypes: float64(7), int64(3), object(5)\n",
            "memory usage: 258.2+ KB\n"
          ]
        }
      ]
    },
    {
      "cell_type": "markdown",
      "source": [
        "### Собираем таблицу по данным из таблиц Состояние онко помощи (контингент)."
      ],
      "metadata": {
        "id": "cxXFH-0G38Po"
      }
    },
    {
      "cell_type": "code",
      "source": [
        "#читаем первую таблицу, чтобы было к чему пришивать остальные\n",
        "data_sop_population = pd.read_excel(sop_population[0], header=[1,2])\n",
        "\n",
        "#создаём колонки с годом, заболеванием, кодом заболевания, номером таблицы\n",
        "new_cols = sop_new_cols(sop_population[0])\n",
        "for key, value in new_cols.items():\n",
        "    data_sop_population[key] = value"
      ],
      "metadata": {
        "id": "JhGl4G04HMv7"
      },
      "execution_count": 27,
      "outputs": []
    },
    {
      "cell_type": "code",
      "source": [
        "#читаем и конкатенируем все остальные из списка sop_population\n",
        "for file in sop_population[1:]:\n",
        "    df = pd.read_excel(file, header=[1,2])\n",
        "    new_cols = sop_new_cols(file)\n",
        "    for key, value in new_cols.items():\n",
        "        df[key] = value\n",
        "    data_sop_population = pd.concat([data_sop_population, df])"
      ],
      "metadata": {
        "id": "q1ZHRUadKTro"
      },
      "execution_count": 28,
      "outputs": []
    },
    {
      "cell_type": "code",
      "source": [
        "#убираем аггрегированные строки (по стране и по ФО)\n",
        "data_sop_population = remove_aggregated_lines(data_sop_population)"
      ],
      "metadata": {
        "id": "z11nlg1HKyTw"
      },
      "execution_count": 29,
      "outputs": []
    },
    {
      "cell_type": "code",
      "source": [
        "#добавляем колонку с федеральным округом для каждой записи\n",
        "data_sop_population['federal_district'] = data_sop_population.iloc[:, 0].map(fo_dict)"
      ],
      "metadata": {
        "id": "U0_7Y_b8atfL"
      },
      "execution_count": 30,
      "outputs": []
    },
    {
      "cell_type": "code",
      "source": [
        "#поправляем колонки\n",
        "data_sop_population.columns = column_names_change(data_sop_population)"
      ],
      "metadata": {
        "id": "GGM3XONiEdOB"
      },
      "execution_count": 31,
      "outputs": []
    },
    {
      "cell_type": "code",
      "source": [
        "#подправляем типы\n",
        "data_sop_population['year'] = data_sop_population['year'].astype(int)\n",
        "data_sop_population.info()"
      ],
      "metadata": {
        "id": "98Okgaqzax02",
        "colab": {
          "base_uri": "https://localhost:8080/"
        },
        "outputId": "7fc8b03b-7ba7-40d0-81b5-48d8eab2e4d0"
      },
      "execution_count": 32,
      "outputs": [
        {
          "output_type": "stream",
          "name": "stdout",
          "text": [
            "<class 'pandas.core.frame.DataFrame'>\n",
            "RangeIndex: 2380 entries, 0 to 2379\n",
            "Data columns (total 14 columns):\n",
            " #   Column                                                      Non-Null Count  Dtype  \n",
            "---  ------                                                      --------------  -----  \n",
            " 0   республика, край, область                                   2380 non-null   object \n",
            " 1   взято на учет больных с впервые в жизни уст. диагнозом зно  2380 non-null   int64  \n",
            " 2   в т.ч. выявлены активно, %                                  2380 non-null   float64\n",
            " 3   находились на учете на конец года абсолютное число          2380 non-null   int64  \n",
            " 4   находились на учете на конец года на 100 тыс. населения     2380 non-null   float64\n",
            " 5   из них 5 лет и более абсолютное число                       2380 non-null   int64  \n",
            " 6   из них 5 лет и более % от сост. на учете                    2380 non-null   float64\n",
            " 7   индекс накопления контингентов                              2380 non-null   float64\n",
            " 8   летальность, %                                              2380 non-null   float64\n",
            " 9   year                                                        2380 non-null   int64  \n",
            " 10  localization                                                2380 non-null   object \n",
            " 11  icd_code                                                    2380 non-null   object \n",
            " 12  table                                                       2380 non-null   object \n",
            " 13  federal_district                                            2380 non-null   object \n",
            "dtypes: float64(5), int64(4), object(5)\n",
            "memory usage: 260.4+ KB\n"
          ]
        }
      ]
    },
    {
      "cell_type": "markdown",
      "source": [
        "### Собираем таблицу по данным из таблиц Злокачественные новообразования (заболеваемость и смертность)"
      ],
      "metadata": {
        "id": "3JShga0OUCqV"
      }
    },
    {
      "cell_type": "code",
      "source": [
        "#функция, которая формирует таблицу: разрезает вдоль на три части по полу и конкатенирует.\n",
        "#таблицы заболеваний, характерных которые для одного пола, не трогает\n",
        "#добавляет колонки: пол, год, название болезни, код болезни, номер таблицы\n",
        "def process_table(table):\n",
        "\n",
        "  workbook = openpyxl.load_workbook(table, read_only=True)\n",
        "  num_columns = workbook.worksheets[0].max_column\n",
        "\n",
        "  if num_columns > 10:\n",
        "    #читаем табилицу\n",
        "    df = pd.read_excel(table, header=[5, 6])\n",
        "    #разрезаем вдоль по полу (все, мужчины, женщины), складываем по-отдельности в список\n",
        "    lst = []\n",
        "    for i in range(0, 3):\n",
        "      lst.append(df.iloc[:, [0] + [4*i + j + 1 for j in range(4)]])\n",
        "\n",
        "    #проходим по списку из разрезанных таблиц\n",
        "    for i, item in enumerate(lst):\n",
        "      #приводим в порядок названия столбцов\n",
        "      item.columns = column_names_change(item)\n",
        "\n",
        "      #добавляем столбец пола\n",
        "      #читаем, к какому полу относится кусок таблицы, добавляем в новый столбец\n",
        "      workbook = openpyxl.load_workbook(table, read_only=True)\n",
        "      worksheet = workbook.worksheets[0]\n",
        "      item['sex'] = worksheet.cell(row=5, column=4*i + 2).value\n",
        "\n",
        "    #конкатенируем в одну таблицу\n",
        "    df = pd.concat([lst[0], lst[1], lst[2]])\n",
        "\n",
        "  else:\n",
        "    #читаем таблицу\n",
        "    df = pd.read_excel(table, header=[4, 5])\n",
        "    #приводим в порядок названия столбцов\n",
        "    df.columns = column_names_change(df)\n",
        "    #добавляем столбец пола\n",
        "    df['sex'] = None\n",
        "\n",
        "  #создаём колонки с годом, заболеванием, кодом заболевания, номером таблицы\n",
        "  new_cols = zno_new_cols(table)\n",
        "  for key, value in new_cols.items():\n",
        "      df[key] = value\n",
        "\n",
        "  return df"
      ],
      "metadata": {
        "id": "FnfClytEX6Zc"
      },
      "execution_count": 33,
      "outputs": []
    },
    {
      "cell_type": "code",
      "source": [
        "#собираем первую таблицу\n",
        "data_zno = process_table(zno_incidence[0])\n",
        "data_zno['category'] = 'заболеваемость'"
      ],
      "metadata": {
        "id": "6orcGTyw-uML"
      },
      "execution_count": 34,
      "outputs": []
    },
    {
      "cell_type": "code",
      "source": [
        "#добавляем остальные\n",
        "for i, lst in enumerate([zno_incidence[1:], zno_mortality]):\n",
        "  for file in tqdm(lst):\n",
        "    data_zno = pd.concat([data_zno, process_table(file)])\n",
        "  if i == 0:\n",
        "    data_zno['category'] = data_zno['category'].fillna('заболеваемость')\n",
        "  else:\n",
        "    data_zno['category'] = data_zno['category'].fillna('смертность')"
      ],
      "metadata": {
        "id": "X9LUqRiOxNdA",
        "colab": {
          "base_uri": "https://localhost:8080/"
        },
        "outputId": "a3e7b50a-c813-4179-ef59-276728b7815a"
      },
      "execution_count": 35,
      "outputs": [
        {
          "output_type": "stream",
          "name": "stderr",
          "text": [
            "100%|██████████| 47/47 [01:09<00:00,  1.47s/it]\n",
            "100%|██████████| 35/35 [00:59<00:00,  1.69s/it]\n"
          ]
        }
      ]
    },
    {
      "cell_type": "code",
      "source": [
        "#убираем аггрегированные строки\n",
        "data_zno = remove_aggregated_lines(data_zno)"
      ],
      "metadata": {
        "id": "R3nRX3KDVYOE"
      },
      "execution_count": 36,
      "outputs": []
    },
    {
      "cell_type": "code",
      "source": [
        "#добавляем колонку с федеральным округом для каждой записи\n",
        "data_zno['federal_district'] = data_zno.iloc[:, 0].str.strip().map(fo_dict)"
      ],
      "metadata": {
        "id": "m6zIYKZAib1Y"
      },
      "execution_count": 37,
      "outputs": []
    },
    {
      "cell_type": "code",
      "source": [
        "#подправляем типы\n",
        "data_zno['year'] = data_zno['year'].astype(int)"
      ],
      "metadata": {
        "id": "mrji1ug70Tm7"
      },
      "execution_count": 38,
      "outputs": []
    },
    {
      "cell_type": "code",
      "source": [
        "#смотрим, в каких таблицах не было указаний на пол\n",
        "data_zno.query('sex.isna()')['localization'].unique()"
      ],
      "metadata": {
        "id": "KywiHUPDErYP",
        "colab": {
          "base_uri": "https://localhost:8080/"
        },
        "outputId": "f4bf3808-0195-4430-a6b1-e4256453fc15"
      },
      "execution_count": 39,
      "outputs": [
        {
          "output_type": "execute_result",
          "data": {
            "text/plain": [
              "array(['Вульва', 'Влагалище', 'Половой член', 'Тело матки', 'Яичник',\n",
              "       'Шейка матки', 'Яичко', 'Предстательная железа', 'Плацента',\n",
              "       'Другие новообразования матки', 'Другие женские половые органы',\n",
              "       'Другие мужские половые органы'], dtype=object)"
            ]
          },
          "metadata": {},
          "execution_count": 39
        }
      ]
    },
    {
      "cell_type": "code",
      "source": [
        "#собираем словарик полов для таблиц, в которых не было указаний на пол\n",
        "sex_dictionary = {\"Женщины\": [\"Влагалище\", \"Вульва\", \"Яичник\", \"Шейка матки\", \"Тело матки\", \"Плацента\", \"Другие женские половые органы\", \"Другие новообразования матки\"]\n",
        "                  , \"Мужчины\": [\"Половой член\", \"Яичко\", \"Предстательная железа\", \"Другие мужские половые органы\"]}"
      ],
      "metadata": {
        "id": "l3Rvjir4E7Z6"
      },
      "execution_count": 40,
      "outputs": []
    },
    {
      "cell_type": "code",
      "source": [
        "#применяем его к датасету\n",
        "for key, value in sex_dictionary.items():\n",
        "\n",
        "    condition = data_zno['localization'].isin(value)\n",
        "    data_zno['sex'] = data_zno.apply(\n",
        "        lambda row: key if pd.isna(row['sex']) and condition[row.name] else row['sex'],\n",
        "        axis=1\n",
        "    )"
      ],
      "metadata": {
        "id": "TGOnowuIIAxj"
      },
      "execution_count": 41,
      "outputs": []
    },
    {
      "cell_type": "code",
      "source": [
        "data_zno.info()"
      ],
      "metadata": {
        "id": "OBuVvrY9Lfdm",
        "colab": {
          "base_uri": "https://localhost:8080/"
        },
        "outputId": "f1e7b17e-95fb-4c4f-e50b-2bd587d56f8a"
      },
      "execution_count": 42,
      "outputs": [
        {
          "output_type": "stream",
          "name": "stdout",
          "text": [
            "<class 'pandas.core.frame.DataFrame'>\n",
            "RangeIndex: 18615 entries, 0 to 18614\n",
            "Data columns (total 12 columns):\n",
            " #   Column                                              Non-Null Count  Dtype \n",
            "---  ------                                              --------------  ----- \n",
            " 0   республика, край, область                           18615 non-null  object\n",
            " 1   абсолютное число                                    18615 non-null  int64 \n",
            " 2   показатель на 100 тыс. населения \"грубый\"           18615 non-null  object\n",
            " 3   показатель на 100 тыс. населения стандартизованный  18615 non-null  object\n",
            " 4   показатель на 100 тыс. населения ошибка             18615 non-null  object\n",
            " 5   sex                                                 18615 non-null  object\n",
            " 6   year                                                18615 non-null  int64 \n",
            " 7   localization                                        18615 non-null  object\n",
            " 8   icd_code                                            18615 non-null  object\n",
            " 9   table                                               18615 non-null  object\n",
            " 10  category                                            18615 non-null  object\n",
            " 11  federal_district                                    18615 non-null  object\n",
            "dtypes: int64(2), object(10)\n",
            "memory usage: 1.7+ MB\n"
          ]
        }
      ]
    },
    {
      "cell_type": "markdown",
      "source": [
        "### Собираем таблицу по данным из таблиц Состояние онко помощи (вторая вкладка)."
      ],
      "metadata": {
        "id": "laRu5Uq3NTR7"
      }
    },
    {
      "cell_type": "code",
      "source": [
        "data_sop_second = pd.read_excel(sop_population[0], sheet_name=1, header=[1, 2, 3])\n",
        "\n",
        "new_cols = sop_new_cols(sop_population[0])\n",
        "for key, value in new_cols.items():\n",
        "    data_sop_second[key] = value\n",
        "\n",
        "data_sop_second.columns = column_names_change(data_sop_second)"
      ],
      "metadata": {
        "id": "zzAL70fqNaxm"
      },
      "execution_count": 43,
      "outputs": []
    },
    {
      "cell_type": "code",
      "source": [
        "for file in tqdm(sop_population[1:]):\n",
        "    try:\n",
        "      df = pd.read_excel(file, sheet_name=1, header=[1, 2, 3])\n",
        "    except Exception:\n",
        "      continue\n",
        "    new_cols = sop_new_cols(file)\n",
        "    for key, value in new_cols.items():\n",
        "        df[key] = value\n",
        "    df.columns = data_sop_second.columns\n",
        "    data_sop_second = pd.concat([data_sop_second, df])"
      ],
      "metadata": {
        "id": "QOjsyfuqqlfz",
        "colab": {
          "base_uri": "https://localhost:8080/"
        },
        "outputId": "bf23753c-48fc-48ae-88c1-59702625885f"
      },
      "execution_count": 44,
      "outputs": [
        {
          "output_type": "stream",
          "name": "stderr",
          "text": [
            "100%|██████████| 27/27 [00:34<00:00,  1.27s/it]\n"
          ]
        }
      ]
    },
    {
      "cell_type": "code",
      "source": [
        "#удаляем строки, которые получились из номеров страниц\n",
        "data_sop_second = data_sop_second.dropna()"
      ],
      "metadata": {
        "id": "ADAzAHjnUGHK"
      },
      "execution_count": 45,
      "outputs": []
    },
    {
      "cell_type": "code",
      "source": [
        "#убираем аггрегированные строки\n",
        "data_sop_second = remove_aggregated_lines(data_sop_second)"
      ],
      "metadata": {
        "id": "fMYZKwkQ1S64"
      },
      "execution_count": 46,
      "outputs": []
    },
    {
      "cell_type": "code",
      "source": [
        "#добавляем колонку с федеральным округом для каждой записи\n",
        "data_sop_second['federal_district'] = data_sop_second.iloc[:, 0].str.strip().map(fo_dict)"
      ],
      "metadata": {
        "id": "n_W8mc2z1X6I"
      },
      "execution_count": 47,
      "outputs": []
    },
    {
      "cell_type": "code",
      "source": [
        "#подправляем типы\n",
        "data_sop_second['year'] = data_sop_second['year'].astype(int)\n",
        "data_sop_second.info()"
      ],
      "metadata": {
        "id": "4jgglQDw1hFW",
        "colab": {
          "base_uri": "https://localhost:8080/"
        },
        "outputId": "69d93847-9f71-4fe8-d94a-8bfbd83e2376"
      },
      "execution_count": 48,
      "outputs": [
        {
          "output_type": "stream",
          "name": "stdout",
          "text": [
            "<class 'pandas.core.frame.DataFrame'>\n",
            "RangeIndex: 2206 entries, 0 to 2205\n",
            "Data columns (total 14 columns):\n",
            " #   Column                                                 Non-Null Count  Dtype  \n",
            "---  ------                                                 --------------  -----  \n",
            " 0   республика, край, область                              2206 non-null   object \n",
            " 1   зарегистрировано зно (без учтенных посмертно)          2206 non-null   float64\n",
            " 2   из них диагноз подтвержден морфологически, %           2206 non-null   float64\n",
            " 3   из них имели стадию заболевания, % i                   2206 non-null   object \n",
            " 4   из них имели стадию заболевания, % ii                  2206 non-null   object \n",
            " 5   из них имели стадию заболевания, % iii                 2206 non-null   object \n",
            " 6   из них имели стадию заболевания, % iv                  2206 non-null   object \n",
            " 7   из них имели стадию заболевания, % не установлена      2206 non-null   object \n",
            " 8   летальность на первом году с момента уст. диагноза, %  2206 non-null   float64\n",
            " 9   year                                                   2206 non-null   int64  \n",
            " 10  localization                                           2206 non-null   object \n",
            " 11  icd_code                                               2206 non-null   object \n",
            " 12  table                                                  2206 non-null   object \n",
            " 13  federal_district                                       2206 non-null   object \n",
            "dtypes: float64(3), int64(1), object(10)\n",
            "memory usage: 241.4+ KB\n"
          ]
        }
      ]
    },
    {
      "cell_type": "markdown",
      "source": [
        "### Загружаем данные в гугл-шитс"
      ],
      "metadata": {
        "id": "G-qk_tIRfAVn"
      }
    },
    {
      "cell_type": "code",
      "source": [
        "#подсоединяемся\n",
        "scope = [\"https://spreadsheets.google.com/feeds\", \"https://www.googleapis.com/auth/drive\"]\n",
        "creds = ServiceAccountCredentials.from_json_keyfile_name(f\"{load_path}/onco-file-processor-dc07dc7f89c4.json\", scope)\n",
        "client = gspread.authorize(creds)"
      ],
      "metadata": {
        "id": "ltJ6WPENykJZ"
      },
      "execution_count": 49,
      "outputs": []
    },
    {
      "cell_type": "code",
      "source": [
        "#создаём словарь таблиц и названий\n",
        "final_list = {\"Сотояние_онко_помощи_лечение\": data_sop_treatment\n",
        "              , \"Состояние_онко_помощи_контингент\": data_sop_population\n",
        "              , \"Состояние_онко_помощи_контингент_вкл2\": data_sop_second\n",
        "              , \"Злокачественные_новообразования_заболеваемость_и_смертность\": data_zno}"
      ],
      "metadata": {
        "id": "1o1-2-HifDdo"
      },
      "execution_count": 51,
      "outputs": []
    },
    {
      "cell_type": "code",
      "source": [
        "for key, value in final_list.items():\n",
        "  spreadsheet = client.create(key)\n",
        "  worksheet = spreadsheet.sheet1\n",
        "  worksheet.update([value.columns.values.tolist()] + value.values.tolist())\n",
        "  spreadsheet.share(\"\", perm_type=\"anyone\", role=\"reader\")\n",
        "  print(f'{key}: {spreadsheet.url}')"
      ],
      "metadata": {
        "id": "INtNkzFPFnei",
        "colab": {
          "base_uri": "https://localhost:8080/"
        },
        "outputId": "1af8f89c-0244-4e1e-ebff-733825bef10c"
      },
      "execution_count": 52,
      "outputs": [
        {
          "output_type": "stream",
          "name": "stdout",
          "text": [
            "Сотояние_онко_помощи_лечение: https://docs.google.com/spreadsheets/d/1GlkbPKtB7-iS8Nqioe9FVqxgmbxf6KuS-hgcgdJb6MQ\n",
            "Состояние_онко_помощи_контингент: https://docs.google.com/spreadsheets/d/10hXq4zzDZcGI7Y_VSIYHxmA8x891hEu6zDLMSaMDfiI\n",
            "Состояние_онко_помощи_контингент_вкл2: https://docs.google.com/spreadsheets/d/1tnyQOEBTJgH4IKya754y3wpGaR7kovry-26NKc302GQ\n",
            "Злокачественные_новообразования_заболеваемость_и_смертность: https://docs.google.com/spreadsheets/d/1AsSU5bg51t62I6ayMzxwPaqyc4EXeTz3fgc_7klaa0E\n"
          ]
        }
      ]
    }
  ]
}